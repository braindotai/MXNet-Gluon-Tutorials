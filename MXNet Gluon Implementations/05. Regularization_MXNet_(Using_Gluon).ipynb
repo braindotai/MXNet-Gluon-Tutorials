{
  "nbformat": 4,
  "nbformat_minor": 0,
  "metadata": {
    "colab": {
      "name": "Regularization - MXNet (Using Gluon).ipynb",
      "version": "0.3.2",
      "provenance": []
    },
    "kernelspec": {
      "name": "python3",
      "display_name": "Python 3"
    },
    "accelerator": "GPU"
  },
  "cells": [
    {
      "cell_type": "code",
      "metadata": {
        "id": "WG6XO-qQajNO",
        "colab_type": "code",
        "outputId": "6b38cda4-2555-4c1d-e977-5ffa4663d928",
        "colab": {
          "base_uri": "https://localhost:8080/",
          "height": 151
        }
      },
      "source": [
        "!pip install mxnet-cu100"
      ],
      "execution_count": 0,
      "outputs": [
        {
          "output_type": "stream",
          "text": [
            "Requirement already satisfied: mxnet-cu100 in /usr/local/lib/python3.6/dist-packages (1.4.1)\n",
            "Requirement already satisfied: requests>=2.20.0 in /usr/local/lib/python3.6/dist-packages (from mxnet-cu100) (2.21.0)\n",
            "Requirement already satisfied: numpy<1.15.0,>=1.8.2 in /usr/local/lib/python3.6/dist-packages (from mxnet-cu100) (1.14.6)\n",
            "Requirement already satisfied: graphviz<0.9.0,>=0.8.1 in /usr/local/lib/python3.6/dist-packages (from mxnet-cu100) (0.8.4)\n",
            "Requirement already satisfied: certifi>=2017.4.17 in /usr/local/lib/python3.6/dist-packages (from requests>=2.20.0->mxnet-cu100) (2019.3.9)\n",
            "Requirement already satisfied: urllib3<1.25,>=1.21.1 in /usr/local/lib/python3.6/dist-packages (from requests>=2.20.0->mxnet-cu100) (1.24.3)\n",
            "Requirement already satisfied: chardet<3.1.0,>=3.0.2 in /usr/local/lib/python3.6/dist-packages (from requests>=2.20.0->mxnet-cu100) (3.0.4)\n",
            "Requirement already satisfied: idna<2.9,>=2.5 in /usr/local/lib/python3.6/dist-packages (from requests>=2.20.0->mxnet-cu100) (2.8)\n"
          ],
          "name": "stdout"
        }
      ]
    },
    {
      "cell_type": "markdown",
      "metadata": {
        "id": "IYnVMDe8axhn",
        "colab_type": "text"
      },
      "source": [
        "#MXNet (Using Gluon)"
      ]
    },
    {
      "cell_type": "code",
      "metadata": {
        "id": "yp7iLrxpQeX3",
        "colab_type": "code",
        "colab": {}
      },
      "source": [
        "import mxnet as mx\n",
        "from mxnet import nd, autograd, gluon\n",
        "\n",
        "data_ctx = mx.cpu()\n",
        "model_ctx = mx.gpu()"
      ],
      "execution_count": 0,
      "outputs": []
    },
    {
      "cell_type": "markdown",
      "metadata": {
        "id": "aM8vNhRqQxd2",
        "colab_type": "text"
      },
      "source": [
        "##Getting dataset and builing data loader"
      ]
    },
    {
      "cell_type": "code",
      "metadata": {
        "id": "p3MUlf5HQeZY",
        "colab_type": "code",
        "colab": {}
      },
      "source": [
        "mnist = mx.test_utils.get_mnist()\n",
        "num_examples = 60000\n",
        "batch_size = 64\n",
        "\n",
        "train_data = mx.gluon.data.DataLoader(\n",
        "    mx.gluon.data.ArrayDataset(mnist[\"train_data\"][:num_examples],\n",
        "                               mnist[\"train_label\"][:num_examples].astype('float32')),\n",
        "                               batch_size, shuffle=True)\n",
        "test_data = mx.gluon.data.DataLoader(\n",
        "    mx.gluon.data.ArrayDataset(mnist[\"test_data\"][:num_examples],\n",
        "                               mnist[\"test_label\"][:num_examples].astype('float32')),\n",
        "                               batch_size, shuffle=False)"
      ],
      "execution_count": 0,
      "outputs": []
    },
    {
      "cell_type": "markdown",
      "metadata": {
        "id": "zyCDA95Ta_mp",
        "colab_type": "text"
      },
      "source": [
        "##Building the model"
      ]
    },
    {
      "cell_type": "code",
      "metadata": {
        "id": "J0dGwy9ta0IM",
        "colab_type": "code",
        "colab": {}
      },
      "source": [
        "model = gluon.nn.Dense(10)\n",
        "model.initialize(mx.init.Normal(sigma = 1.0), model_ctx)"
      ],
      "execution_count": 0,
      "outputs": []
    },
    {
      "cell_type": "markdown",
      "metadata": {
        "id": "BLtMNVd5bU53",
        "colab_type": "text"
      },
      "source": [
        "##Defining objective function"
      ]
    },
    {
      "cell_type": "code",
      "metadata": {
        "id": "bRE_XZsTa0Fb",
        "colab_type": "code",
        "colab": {}
      },
      "source": [
        "categoricalcrossentropy = gluon.loss.SoftmaxCrossEntropyLoss()"
      ],
      "execution_count": 0,
      "outputs": []
    },
    {
      "cell_type": "markdown",
      "metadata": {
        "id": "PQ1OcFIAbYne",
        "colab_type": "text"
      },
      "source": [
        "##Defining out parameters optimizer \"with regularization\""
      ]
    },
    {
      "cell_type": "code",
      "metadata": {
        "id": "Q4QYvCBRa0D2",
        "colab_type": "code",
        "colab": {}
      },
      "source": [
        "optimizer = gluon.Trainer(model.collect_params(), 'sgd', {'learning_rate': 0.1, 'wd': 0.01})"
      ],
      "execution_count": 0,
      "outputs": []
    },
    {
      "cell_type": "markdown",
      "metadata": {
        "id": "EeEkwT6qWPTX",
        "colab_type": "text"
      },
      "source": [
        "##Defining accuracy function"
      ]
    },
    {
      "cell_type": "code",
      "metadata": {
        "id": "Ff2oB_yFWR9O",
        "colab_type": "code",
        "colab": {}
      },
      "source": [
        "def accuracy(predictions, labels):\n",
        "    return nd.mean(predictions.argmax(1) == labels)"
      ],
      "execution_count": 0,
      "outputs": []
    },
    {
      "cell_type": "markdown",
      "metadata": {
        "id": "_wZ0g5VwVF-x",
        "colab_type": "text"
      },
      "source": [
        "##Training the model"
      ]
    },
    {
      "cell_type": "code",
      "metadata": {
        "id": "Yn3p264lQej3",
        "colab_type": "code",
        "outputId": "1285a344-2cb8-48cb-92e4-3a2f8eddecfe",
        "colab": {
          "base_uri": "https://localhost:8080/",
          "height": 353
        }
      },
      "source": [
        "epochs = 20\n",
        "num_batches = 60000/batch_size\n",
        "learning_rate = .01\n",
        "lamda = 0.01\n",
        "losses = []\n",
        "accs = []\n",
        "\n",
        "for epoch in range(epochs):\n",
        "    cumulative_loss = 0\n",
        "    cumulative_acc = 0\n",
        "    for features, labels in train_data:\n",
        "        features = features.as_in_context(model_ctx).reshape((-1, 784))\n",
        "        labels = labels.as_in_context(model_ctx)\n",
        "        with autograd.record():\n",
        "            output = model(features)\n",
        "            loss = categoricalcrossentropy(output, labels)\n",
        "        loss.backward()\n",
        "        optimizer.step(batch_size)\n",
        "        cumulative_loss += loss.mean()\n",
        "        cumulative_acc += accuracy(output, labels)\n",
        "    print(f'Epoch: {epoch} Loss: {cumulative_loss.asscalar()/num_batches} Accuracy: {cumulative_acc.asscalar()/num_batches}')\n",
        "    losses.append(cumulative_loss.asscalar()/num_batches)\n",
        "    accs.append(cumulative_acc.asscalar()/num_batches)"
      ],
      "execution_count": 0,
      "outputs": [
        {
          "output_type": "stream",
          "text": [
            "Epoch: 0 Loss: 1.514583984375 Accuracy: 0.7021333333333334\n",
            "Epoch: 1 Loss: 0.44932233072916666 Accuracy: 0.8736\n",
            "Epoch: 2 Loss: 0.41384384765625 Accuracy: 0.8957666666666667\n",
            "Epoch: 3 Loss: 0.4110306315104167 Accuracy: 0.8983166666666667\n",
            "Epoch: 4 Loss: 0.4110748697916667 Accuracy: 0.89845\n",
            "Epoch: 5 Loss: 0.4110483072916667 Accuracy: 0.8986166666666666\n",
            "Epoch: 6 Loss: 0.4110732421875 Accuracy: 0.8984833333333333\n",
            "Epoch: 7 Loss: 0.41138785807291667 Accuracy: 0.8983\n",
            "Epoch: 8 Loss: 0.41091578776041665 Accuracy: 0.8988666666666667\n",
            "Epoch: 9 Loss: 0.41153033854166665 Accuracy: 0.8983333333333333\n",
            "Epoch: 10 Loss: 0.41128349609375 Accuracy: 0.8988\n",
            "Epoch: 11 Loss: 0.41123287760416666 Accuracy: 0.8983\n",
            "Epoch: 12 Loss: 0.41116513671875 Accuracy: 0.89815\n",
            "Epoch: 13 Loss: 0.41147174479166665 Accuracy: 0.8989833333333334\n",
            "Epoch: 14 Loss: 0.41095126953125 Accuracy: 0.89865\n",
            "Epoch: 15 Loss: 0.4111547200520833 Accuracy: 0.8987\n",
            "Epoch: 16 Loss: 0.41065901692708334 Accuracy: 0.8991833333333333\n",
            "Epoch: 17 Loss: 0.4113619466145833 Accuracy: 0.8982666666666667\n",
            "Epoch: 18 Loss: 0.41116119791666667 Accuracy: 0.8984\n",
            "Epoch: 19 Loss: 0.41153756510416667 Accuracy: 0.8986\n"
          ],
          "name": "stdout"
        }
      ]
    },
    {
      "cell_type": "code",
      "metadata": {
        "id": "IouagZtUdN27",
        "colab_type": "code",
        "outputId": "d258bd10-bcd6-4088-9518-862122fe45be",
        "colab": {
          "base_uri": "https://localhost:8080/",
          "height": 545
        }
      },
      "source": [
        "plt.plot(losses)\n",
        "plt.title('Training Loss')\n",
        "plt.show()\n",
        "plt.plot(accs)\n",
        "plt.title('Training Accuracy')\n",
        "plt.show()"
      ],
      "execution_count": 0,
      "outputs": [
        {
          "output_type": "display_data",
          "data": {
            "image/png": "[encoded data removed]",
            "text/plain": [
              "<Figure size 432x288 with 1 Axes>"
            ]
          },
          "metadata": {
            "tags": []
          }
        },
        {
          "output_type": "display_data",
          "data": {
            "image/png": "[encoded data removed]",
            "text/plain": [
              "<Figure size 432x288 with 1 Axes>"
            ]
          },
          "metadata": {
            "tags": []
          }
        }
      ]
    },
    {
      "cell_type": "code",
      "metadata": {
        "id": "eRkTd9d9Qecj",
        "colab_type": "code",
        "outputId": "65ce1a10-71b9-4b1c-9238-d7e527c120fa",
        "colab": {
          "base_uri": "https://localhost:8080/",
          "height": 34
        }
      },
      "source": [
        "acc = 0.0\n",
        "batches = 0\n",
        "for features, labels in test_data:\n",
        "    features = features.as_in_context(model_ctx).reshape((-1, 784))\n",
        "    labels = labels.as_in_context(model_ctx)\n",
        "    predictions = model(features)\n",
        "    acc += accuracy(predictions, labels)\n",
        "    batches += 1\n",
        "print(f'Test Accuracy: {acc.asscalar()/batches}')"
      ],
      "execution_count": 0,
      "outputs": [
        {
          "output_type": "stream",
          "text": [
            "Test Accuracy: 0.9038614649681529\n"
          ],
          "name": "stdout"
        }
      ]
    },
    {
      "cell_type": "markdown",
      "metadata": {
        "id": "lC-InETCYWty",
        "colab_type": "text"
      },
      "source": [
        "### Even by training out model for full 20 epochs we still managed to force it not to overfit on the training data. "
      ]
    }
  ]
}