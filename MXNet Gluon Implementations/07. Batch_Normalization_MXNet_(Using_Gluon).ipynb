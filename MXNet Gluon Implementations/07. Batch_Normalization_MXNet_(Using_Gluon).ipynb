{
  "nbformat": 4,
  "nbformat_minor": 0,
  "metadata": {
    "colab": {
      "name": "Batch Normalization - MXNet (Using Gluon).ipynb",
      "version": "0.3.2",
      "provenance": [],
      "collapsed_sections": []
    },
    "kernelspec": {
      "name": "python3",
      "display_name": "Python 3"
    },
    "accelerator": "GPU"
  },
  "cells": [
    {
      "cell_type": "code",
      "metadata": {
        "id": "Pj-QDfnykd_g",
        "colab_type": "code",
        "outputId": "5bbec268-18df-4bd0-b1d5-a43ad13eb0ea",
        "colab": {
          "base_uri": "https://localhost:8080/",
          "height": 171
        }
      },
      "source": [
        ""
      ],
      "execution_count": 0,
      "outputs": [
        {
          "output_type": "stream",
          "text": [
            "Requirement already satisfied: mxnet-cu100 in /usr/local/lib/python3.6/dist-packages (1.4.1)\n",
            "Requirement already satisfied: numpy<1.15.0,>=1.8.2 in /usr/local/lib/python3.6/dist-packages (from mxnet-cu100) (1.14.6)\n",
            "Requirement already satisfied: graphviz<0.9.0,>=0.8.1 in /usr/local/lib/python3.6/dist-packages (from mxnet-cu100) (0.8.4)\n",
            "Requirement already satisfied: requests>=2.20.0 in /usr/local/lib/python3.6/dist-packages (from mxnet-cu100) (2.21.0)\n",
            "Requirement already satisfied: chardet<3.1.0,>=3.0.2 in /usr/local/lib/python3.6/dist-packages (from requests>=2.20.0->mxnet-cu100) (3.0.4)\n",
            "Requirement already satisfied: idna<2.9,>=2.5 in /usr/local/lib/python3.6/dist-packages (from requests>=2.20.0->mxnet-cu100) (2.8)\n",
            "Requirement already satisfied: urllib3<1.25,>=1.21.1 in /usr/local/lib/python3.6/dist-packages (from requests>=2.20.0->mxnet-cu100) (1.24.3)\n",
            "Requirement already satisfied: certifi>=2017.4.17 in /usr/local/lib/python3.6/dist-packages (from requests>=2.20.0->mxnet-cu100) (2019.3.9)\n"
          ],
          "name": "stdout"
        }
      ]
    },
    {
      "cell_type": "code",
      "metadata": {
        "id": "sAxdD0b_0njT",
        "colab_type": "code",
        "colab": {}
      },
      "source": [
        "import mxnet as mx\n",
        "from mxnet import nd, autograd, gluon\n",
        "from mxnet.gluon import nn, data\n",
        "import matplotlib.pyplot as plt\n",
        "\n",
        "ctx = mx.gpu()"
      ],
      "execution_count": 0,
      "outputs": []
    },
    {
      "cell_type": "markdown",
      "metadata": {
        "id": "f6lgNphf1AIV",
        "colab_type": "text"
      },
      "source": [
        "##Getting our data"
      ]
    },
    {
      "cell_type": "code",
      "metadata": {
        "id": "v2Tbe1PF0_q8",
        "colab_type": "code",
        "outputId": "49d5d523-a0f4-4e92-ca8c-629f54854e32",
        "colab": {
          "base_uri": "https://localhost:8080/",
          "height": 54
        }
      },
      "source": [
        "def transform(data, label):\n",
        "    return nd.moveaxis(data.astype('float32'), 2, 0)/255.0, label.astype('float32')\n",
        "\n",
        "train_cifar = data.vision.datasets.CIFAR10(train = True, transform = transform)\n",
        "test_cifar = data.vision.datasets.CIFAR10(train = False, transform = transform)"
      ],
      "execution_count": 0,
      "outputs": [
        {
          "output_type": "stream",
          "text": [
            "Downloading /root/.mxnet/datasets/cifar10/cifar-10-binary.tar.gz from https://apache-mxnet.s3-accelerate.dualstack.amazonaws.com/gluon/dataset/cifar10/cifar-10-binary.tar.gz...\n"
          ],
          "name": "stdout"
        }
      ]
    },
    {
      "cell_type": "code",
      "metadata": {
        "id": "VahNidgo2Bsh",
        "colab_type": "code",
        "outputId": "faf1a8c3-4057-4c49-faee-10881ca0855f",
        "colab": {
          "base_uri": "https://localhost:8080/",
          "height": 34
        }
      },
      "source": [
        "image, label = train_cifar[456]\n",
        "image.shape, label.shape"
      ],
      "execution_count": 0,
      "outputs": [
        {
          "output_type": "execute_result",
          "data": {
            "text/plain": [
              "((3, 32, 32), ())"
            ]
          },
          "metadata": {
            "tags": []
          },
          "execution_count": 4
        }
      ]
    },
    {
      "cell_type": "code",
      "metadata": {
        "id": "v0vmp1W61ZG0",
        "colab_type": "code",
        "colab": {}
      },
      "source": [
        "batch_size = 128\n",
        "train_data = data.DataLoader(train_cifar, batch_size, True)\n",
        "test_data = data.DataLoader(test_cifar, batch_size, False)"
      ],
      "execution_count": 0,
      "outputs": []
    },
    {
      "cell_type": "markdown",
      "metadata": {
        "id": "wjhB-e6X19jo",
        "colab_type": "text"
      },
      "source": [
        "##Building the model"
      ]
    },
    {
      "cell_type": "code",
      "metadata": {
        "id": "IicgDZNB1ZDa",
        "colab_type": "code",
        "colab": {}
      },
      "source": [
        "model = nn.Sequential()\n",
        "model.add(nn.Conv2D(channels = 16, kernel_size = (5, 5)))\n",
        "model.add(nn.BatchNorm())\n",
        "model.add(nn.Activation('relu'))\n",
        "model.add(nn.MaxPool2D(pool_size = 2, strides = 1))\n",
        "\n",
        "model.add(nn.Conv2D(channels = 32, kernel_size = (5, 5)))\n",
        "model.add(nn.BatchNorm())\n",
        "model.add(nn.Activation('relu'))\n",
        "model.add(nn.MaxPool2D(pool_size = 2, strides = 1))\n",
        "\n",
        "model.add(nn.Conv2D(channels = 64, kernel_size = (5, 5)))\n",
        "model.add(nn.BatchNorm())\n",
        "model.add(nn.Activation('relu'))\n",
        "model.add(nn.MaxPool2D(pool_size = 2, strides = 1))\n",
        "\n",
        "model.add(nn.Flatten())\n",
        "\n",
        "model.add(nn.Dense(512))\n",
        "model.add(nn.BatchNorm())\n",
        "model.add(nn.Activation('relu'))\n",
        "model.add(nn.Dropout(0.5))\n",
        "\n",
        "model.add(nn.Dense(256))\n",
        "model.add(nn.BatchNorm())\n",
        "model.add(nn.Activation('relu'))\n",
        "model.add(nn.Dropout(0.5))\n",
        "\n",
        "model.add(nn.Dense(10))\n",
        "\n",
        "model.initialize(mx.init.Xavier(), ctx)"
      ],
      "execution_count": 0,
      "outputs": []
    },
    {
      "cell_type": "markdown",
      "metadata": {
        "id": "Z0gPkgCL9t84",
        "colab_type": "text"
      },
      "source": [
        "##Printing model definition"
      ]
    },
    {
      "cell_type": "code",
      "metadata": {
        "id": "pWiLWyuZ9zJm",
        "colab_type": "code",
        "outputId": "dd1d3ff8-cbfd-46fd-cf7d-fb99cc30508a",
        "colab": {
          "base_uri": "https://localhost:8080/",
          "height": 440
        }
      },
      "source": [
        "model"
      ],
      "execution_count": 0,
      "outputs": [
        {
          "output_type": "execute_result",
          "data": {
            "text/plain": [
              "Sequential(\n",
              "  (0): Conv2D(None -> 16, kernel_size=(5, 5), stride=(1, 1))\n",
              "  (1): BatchNorm(axis=1, eps=1e-05, momentum=0.9, fix_gamma=False, use_global_stats=False, in_channels=None)\n",
              "  (2): Activation(relu)\n",
              "  (3): MaxPool2D(size=(2, 2), stride=(1, 1), padding=(0, 0), ceil_mode=False)\n",
              "  (4): Conv2D(None -> 32, kernel_size=(5, 5), stride=(1, 1))\n",
              "  (5): BatchNorm(axis=1, eps=1e-05, momentum=0.9, fix_gamma=False, use_global_stats=False, in_channels=None)\n",
              "  (6): Activation(relu)\n",
              "  (7): MaxPool2D(size=(2, 2), stride=(1, 1), padding=(0, 0), ceil_mode=False)\n",
              "  (8): Conv2D(None -> 64, kernel_size=(5, 5), stride=(1, 1))\n",
              "  (9): BatchNorm(axis=1, eps=1e-05, momentum=0.9, fix_gamma=False, use_global_stats=False, in_channels=None)\n",
              "  (10): Activation(relu)\n",
              "  (11): MaxPool2D(size=(2, 2), stride=(1, 1), padding=(0, 0), ceil_mode=False)\n",
              "  (12): Flatten\n",
              "  (13): Dense(None -> 512, linear)\n",
              "  (14): BatchNorm(axis=1, eps=1e-05, momentum=0.9, fix_gamma=False, use_global_stats=False, in_channels=None)\n",
              "  (15): Activation(relu)\n",
              "  (16): Dropout(p = 0.5, axes=())\n",
              "  (17): Dense(None -> 256, linear)\n",
              "  (18): BatchNorm(axis=1, eps=1e-05, momentum=0.9, fix_gamma=False, use_global_stats=False, in_channels=None)\n",
              "  (19): Activation(relu)\n",
              "  (20): Dropout(p = 0.5, axes=())\n",
              "  (21): Dense(None -> 10, linear)\n",
              ")"
            ]
          },
          "metadata": {
            "tags": []
          },
          "execution_count": 7
        }
      ]
    },
    {
      "cell_type": "markdown",
      "metadata": {
        "id": "T3joU6JO4cpG",
        "colab_type": "text"
      },
      "source": [
        "##Printing model computation summary "
      ]
    },
    {
      "cell_type": "code",
      "metadata": {
        "id": "WRRnW6fL1ZAx",
        "colab_type": "code",
        "outputId": "6a86da00-ea99-43ad-b5be-b3353b3c7d08",
        "colab": {
          "base_uri": "https://localhost:8080/",
          "height": 588
        }
      },
      "source": [
        "model.summary(image.expand_dims(0).as_in_context(ctx))"
      ],
      "execution_count": 0,
      "outputs": [
        {
          "output_type": "stream",
          "text": [
            "--------------------------------------------------------------------------------\n",
            "        Layer (type)                                Output Shape         Param #\n",
            "================================================================================\n",
            "               Input                              (1, 3, 32, 32)               0\n",
            "            Conv2D-1                             (1, 16, 28, 28)            1216\n",
            "         BatchNorm-2                             (1, 16, 28, 28)              64\n",
            "        Activation-3                             (1, 16, 28, 28)               0\n",
            "         MaxPool2D-4                             (1, 16, 27, 27)               0\n",
            "            Conv2D-5                             (1, 32, 23, 23)           12832\n",
            "         BatchNorm-6                             (1, 32, 23, 23)             128\n",
            "        Activation-7                             (1, 32, 23, 23)               0\n",
            "         MaxPool2D-8                             (1, 32, 22, 22)               0\n",
            "            Conv2D-9                             (1, 64, 18, 18)           51264\n",
            "        BatchNorm-10                             (1, 64, 18, 18)             256\n",
            "       Activation-11                             (1, 64, 18, 18)               0\n",
            "        MaxPool2D-12                             (1, 64, 17, 17)               0\n",
            "          Flatten-13                                  (1, 18496)               0\n",
            "            Dense-14                                    (1, 512)         9470464\n",
            "        BatchNorm-15                                    (1, 512)            2048\n",
            "       Activation-16                                    (1, 512)               0\n",
            "          Dropout-17                                    (1, 512)               0\n",
            "            Dense-18                                    (1, 256)          131328\n",
            "        BatchNorm-19                                    (1, 256)            1024\n",
            "       Activation-20                                    (1, 256)               0\n",
            "          Dropout-21                                    (1, 256)               0\n",
            "            Dense-22                                     (1, 10)            2570\n",
            "================================================================================\n",
            "Parameters in forward computation graph, duplicate included\n",
            "   Total params: 9673194\n",
            "   Trainable params: 9671434\n",
            "   Non-trainable params: 1760\n",
            "Shared params in forward computation graph: 0\n",
            "Unique parameters in model: 9673194\n",
            "--------------------------------------------------------------------------------\n"
          ],
          "name": "stdout"
        }
      ]
    },
    {
      "cell_type": "markdown",
      "metadata": {
        "id": "N-WJ5sER5BeG",
        "colab_type": "text"
      },
      "source": [
        "##Defining objective function"
      ]
    },
    {
      "cell_type": "code",
      "metadata": {
        "id": "-aOLi1X55Apc",
        "colab_type": "code",
        "colab": {}
      },
      "source": [
        "objective = gluon.loss.SoftmaxCrossEntropyLoss()"
      ],
      "execution_count": 0,
      "outputs": []
    },
    {
      "cell_type": "markdown",
      "metadata": {
        "id": "tzhEgsFk5Ps6",
        "colab_type": "text"
      },
      "source": [
        "##Defining optimizer"
      ]
    },
    {
      "cell_type": "code",
      "metadata": {
        "id": "Mq7S_Vws5Amj",
        "colab_type": "code",
        "colab": {}
      },
      "source": [
        "optimizer = gluon.Trainer(model.collect_params(), 'adam', {'learning_rate': 0.001})"
      ],
      "execution_count": 0,
      "outputs": []
    },
    {
      "cell_type": "markdown",
      "metadata": {
        "id": "lbHoiGM3ZrQY",
        "colab_type": "text"
      },
      "source": [
        "##Defining our accuracy function"
      ]
    },
    {
      "cell_type": "code",
      "metadata": {
        "id": "-3osTW97ZuHR",
        "colab_type": "code",
        "colab": {}
      },
      "source": [
        "metric = mx.metric.Accuracy()"
      ],
      "execution_count": 0,
      "outputs": []
    },
    {
      "cell_type": "markdown",
      "metadata": {
        "id": "UlkEn5XxFPkd",
        "colab_type": "text"
      },
      "source": [
        "##Training the  model"
      ]
    },
    {
      "cell_type": "code",
      "metadata": {
        "id": "kVao6lbWCizF",
        "colab_type": "code",
        "outputId": "0b041060-0a9a-4d2d-f04a-f00531eefc55",
        "colab": {
          "base_uri": "https://localhost:8080/",
          "height": 185
        }
      },
      "source": [
        "epochs = 10\n",
        "losses = []\n",
        "accs = []\n",
        "\n",
        "for epoch in range(epochs):\n",
        "    cumulative_loss = 0\n",
        "    metric.reset()\n",
        "    for batches, (features, labels) in enumerate(train_data, 1):\n",
        "        features = features.as_in_context(ctx)\n",
        "        labels = labels.as_in_context(ctx)\n",
        "        with autograd.record():\n",
        "            output = model(features)\n",
        "            loss = objective(output, labels)\n",
        "        loss.backward()\n",
        "        optimizer.step(batch_size)\n",
        "        cumulative_loss += loss.mean()\n",
        "        metric.update(labels, output)\n",
        "    acc = metric.get()[1]\n",
        "    losses.append(cumulative_loss.asscalar())\n",
        "    accs.append(acc)\n",
        "    print(f'Epoch: {epoch} | Loss: {cumulative_loss.asscalar()/(batches):.5f} | Accuracy: {acc:.5f}')"
      ],
      "execution_count": 0,
      "outputs": [
        {
          "output_type": "stream",
          "text": [
            "Epoch: 0 | Loss: 1.55657 | Accuracy: 0.44776\n",
            "Epoch: 1 | Loss: 1.11562 | Accuracy: 0.60742\n",
            "Epoch: 2 | Loss: 0.97464 | Accuracy: 0.65814\n",
            "Epoch: 3 | Loss: 0.88400 | Accuracy: 0.69018\n",
            "Epoch: 4 | Loss: 0.80990 | Accuracy: 0.71650\n",
            "Epoch: 5 | Loss: 0.74595 | Accuracy: 0.73598\n",
            "Epoch: 6 | Loss: 0.70015 | Accuracy: 0.75522\n",
            "Epoch: 7 | Loss: 0.64134 | Accuracy: 0.77454\n",
            "Epoch: 8 | Loss: 0.59926 | Accuracy: 0.78832\n",
            "Epoch: 9 | Loss: 0.55550 | Accuracy: 0.80462\n"
          ],
          "name": "stdout"
        }
      ]
    },
    {
      "cell_type": "code",
      "metadata": {
        "id": "uX381SKr5aUW",
        "colab_type": "code",
        "outputId": "32bf310b-d7a6-4dd8-e1b4-e457c4392d4f",
        "colab": {
          "base_uri": "https://localhost:8080/",
          "height": 34
        }
      },
      "source": [
        "metric.reset()\n",
        "for features, labels in test_data:\n",
        "    features = features.as_in_context(mx.gpu())\n",
        "    labels = labels.as_in_context(mx.gpu())\n",
        "    predictions = model(features)\n",
        "    metric.update(labels, predictions)\n",
        "print(f'Test Accuracy: {metric.get()[1]:.5f}')"
      ],
      "execution_count": 0,
      "outputs": [
        {
          "output_type": "stream",
          "text": [
            "Test Accuracy: 0.70580\n"
          ],
          "name": "stdout"
        }
      ]
    },
    {
      "cell_type": "code",
      "metadata": {
        "id": "Fa9tf4eolx9r",
        "colab_type": "code",
        "outputId": "66987073-9ffb-4551-af16-2f7dc91eff88",
        "colab": {
          "base_uri": "https://localhost:8080/",
          "height": 545
        }
      },
      "source": [
        "plt.plot(losses, c = 'r')\n",
        "plt.title('Training Loss')\n",
        "plt.show()\n",
        "\n",
        "plt.plot(accs, c = 'g')\n",
        "plt.title('Training Accuracy')\n",
        "plt.show()"
      ],
      "execution_count": 0,
      "outputs": [
        {
          "output_type": "display_data",
          "data": {
            "image/png": "[encoded data removed]",
            "text/plain": [
              "<Figure size 432x288 with 1 Axes>"
            ]
          },
          "metadata": {
            "tags": []
          }
        },
        {
          "output_type": "display_data",
          "data": {
            "image/png": "[encoded data removed]",
            "text/plain": [
              "<Figure size 432x288 with 1 Axes>"
            ]
          },
          "metadata": {
            "tags": []
          }
        }
      ]
    }
  ]
}